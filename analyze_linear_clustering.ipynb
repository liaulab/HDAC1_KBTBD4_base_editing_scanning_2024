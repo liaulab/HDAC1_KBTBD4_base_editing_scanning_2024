{
 "cells": [
  {
   "cell_type": "markdown",
   "id": "f100b76e-ddd3-4499-80eb-4b9815b21f22",
   "metadata": {},
   "source": [
    "## Dependencies"
   ]
  },
  {
   "cell_type": "code",
   "execution_count": null,
   "id": "078a1e71-7876-4462-8fb0-e48253e8ad56",
   "metadata": {},
   "outputs": [],
   "source": [
    "import numpy as np\n",
    "import pandas as pd\n",
    "import scipy.stats as stats\n",
    "import scipy.interpolate as interp\n",
    "import statsmodels.stats.multitest as smm\n",
    "from statsmodels.nonparametric.smoothers_lowess import lowess\n",
    "import random"
   ]
  },
  {
   "cell_type": "markdown",
   "id": "45851945-9e86-479a-b468-0849ca74c004",
   "metadata": {},
   "source": [
    "## Functions"
   ]
  },
  {
   "cell_type": "markdown",
   "id": "adede688-2179-47b8-a687-c35945cc2472",
   "metadata": {},
   "source": [
    "### loess-related functions"
   ]
  },
  {
   "cell_type": "code",
   "execution_count": null,
   "id": "e75cc1f2-ed55-407f-aa79-b9bbb1d527fb",
   "metadata": {},
   "outputs": [],
   "source": [
    "# function to calculate per-residue score using loess \n",
    "def loess_v3(x_obs, y_obs, span, x_out=None, interp_how='quadratic', it=0, loess_kws=dict(missing='raise',return_sorted=False), interp_kws=dict(fill_value='extrapolate')):\n",
    "    x_obs = x_obs.astype(float)\n",
    "    if x_out is None:\n",
    "        x_out = x_obs\n",
    "    df_loess = pd.DataFrame()\n",
    "    df_loess['xvals'] = x_out.astype(float)\n",
    "    df_loess = df_loess.sort_values(by='xvals').reset_index(drop=True)\n",
    "    if interp_how == 'statsmodels':\n",
    "        df_loess['y_loess'] = lowess(endog=y_obs, exog=x_obs, xvals=df_loess['xvals'], frac=span, it=it, **loess_kws)\n",
    "    else:\n",
    "        df_interp = pd.DataFrame()\n",
    "        df_interp['x_obs'] = x_obs\n",
    "        df_interp['y_obs_loess'] = lowess(endog=y_obs, exog=x_obs, xvals=x_obs, frac=span, it=it, missing='drop')#, **loess_kws)\n",
    "        df_interp = df_interp.groupby('x_obs',as_index=False).agg({'y_obs_loess':'mean'})\n",
    "        fx_interp = interp.interp1d(x=df_interp['x_obs'], y=df_interp['y_obs_loess'], kind=interp_how, **interp_kws)\n",
    "        df_loess['y_loess'] = fx_interp(df_loess['xvals'])\n",
    "    df_loess['type'] = np.where(df_loess['xvals'].isin(x_obs), 'loess', 'interp')\n",
    "    return df_loess\n",
    "\n",
    "# function to randomize sgRNA scores and calculate loess to generate null distribution\n",
    "def randomize(input_df,loess_col,n,aa_len):\n",
    "    loess_df = pd.DataFrame()\n",
    "    loess_df = pd.concat([loess_v3(input_df['Residue'],\n",
    "                        random.sample(input_df[loess_col].tolist(),len(input_df[loess_col].tolist())),\n",
    "                        x_out=np.arange(1,aa_len+1,1),span=20/aa_len, interp_how='quadratic')[['y_loess']] for i in range(0,n)], ignore_index=True,axis=1)\n",
    "    return(loess_df)\n",
    "\n",
    "# function to calculate adjusted p-value of per-residue scores \n",
    "def calculate_sig(loess_actual,randomized_loess,n):\n",
    "    pval_df = loess_actual[['xvals','y_loess']].copy()\n",
    "    pval_df['obs_gt'] = randomized_loess.gt(pval_df['y_loess'], axis=0).sum(axis=1) # get # of values greater than obs_val\n",
    "    pval_df['1t_pval'] = pval_df['obs_gt'] / n # divide \"rank\" of obs val by N to get empirical p-val\n",
    "\n",
    "    temp = smm.multipletests(pval_df['1t_pval'], alpha=0.05, method='fdr_bh', is_sorted=False, returnsorted=False) # apply benjamini-hochberg FDR correction\n",
    "    pval_df['sig'] = temp[0]\n",
    "    pval_df['corr_pval'] = temp[1]\n",
    "    return(pval_df)"
   ]
  },
  {
   "cell_type": "markdown",
   "id": "b26583e3-ae9d-4bec-86d2-57e122bcdc4e",
   "metadata": {},
   "source": [
    "### miscellaneous functions"
   ]
  },
  {
   "cell_type": "code",
   "execution_count": null,
   "id": "dc002f10-4182-4d99-9346-c96495b128d2",
   "metadata": {},
   "outputs": [],
   "source": [
    "# function to combine ABE and CBE sgRNA scores\n",
    "def combine_and_zscore(ABE,CBE):\n",
    "    combined_ABE = ABE[ABE['Mutation_type']=='Missense'][['Residue']].copy()\n",
    "    combined_ABE = combined_ABE.assign(zscore_lfc = stats.zscore(ABE['lfc_over_unsorted_adjusted_param1']))\n",
    "    combined_CBE = CBE[CBE['Mutation_type']=='Missense'][['Residue']].copy()\n",
    "    combined_CBE = combined_CBE.assign(zscore_lfc = stats.zscore(CBE['lfc_over_unsorted_adjusted_param1']))\n",
    "    return(pd.concat([combined_ABE,combined_CBE]))"
   ]
  },
  {
   "cell_type": "markdown",
   "id": "3473c6e7-206a-4918-b4fc-f31403aaab09",
   "metadata": {},
   "source": [
    "## example lines of code to run linear clustering"
   ]
  },
  {
   "cell_type": "code",
   "execution_count": null,
   "id": "ca226d41-af30-4bf1-a25e-8371f070521d",
   "metadata": {},
   "outputs": [],
   "source": [
    "ABE_df = #df containing sgRNA scores from ABE library\n",
    "CBE_df = #df containing sgRNA scores from CBE library\n",
    "combined_zscore = combine_and_zscore(ABE_df, CBE_df)"
   ]
  },
  {
   "cell_type": "code",
   "execution_count": null,
   "id": "98564d06-4aca-4c3f-b7e1-29b77d437930",
   "metadata": {},
   "outputs": [],
   "source": [
    "aa_len = #number of residues protein contains\n",
    "n_iterations = #number of randomization iterations\n",
    "span = #span of sliding window\n",
    "loess = loess_v3(x_obs=combined_zscore['Residue'].astype(float),y_obs=combined_zscore['zscore_lfc'].astype(float),x_out=np.arange(1,aa_len+1,1),span=span,interp_how='quadratic')\n",
    "bg_loess = randomize(combined_zscore,'zscore_lfc',n_iterations,aa_len)\n",
    "pval = calculate_sig(loess,bg_loess,n_iterations)"
   ]
  }
 ],
 "metadata": {
  "kernelspec": {
   "display_name": "Python [conda env:generic_env]",
   "language": "python",
   "name": "conda-env-generic_env-py"
  },
  "language_info": {
   "codemirror_mode": {
    "name": "ipython",
    "version": 3
   },
   "file_extension": ".py",
   "mimetype": "text/x-python",
   "name": "python",
   "nbconvert_exporter": "python",
   "pygments_lexer": "ipython3",
   "version": "3.12.2"
  }
 },
 "nbformat": 4,
 "nbformat_minor": 5
}

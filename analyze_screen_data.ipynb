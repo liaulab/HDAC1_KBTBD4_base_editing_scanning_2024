{
 "cells": [
  {
   "cell_type": "markdown",
   "id": "b6ac5626-7d2d-4f9a-bb7a-b86c6faeddc8",
   "metadata": {},
   "source": [
    "## Dependencies"
   ]
  },
  {
   "cell_type": "code",
   "execution_count": null,
   "id": "0e95cc4c-9d8e-4fde-a14e-71f91f67c347",
   "metadata": {},
   "outputs": [],
   "source": [
    "from Bio import SeqIO\n",
    "import numpy as np\n",
    "import pandas as pd\n",
    "import gzip\n",
    "import glob"
   ]
  },
  {
   "cell_type": "markdown",
   "id": "83271312-e5d2-4362-9fd4-49fd8eecca1b",
   "metadata": {},
   "source": [
    "## Functions"
   ]
  },
  {
   "cell_type": "markdown",
   "id": "990e3269-b9c4-4554-97de-4ab1cc52d0ef",
   "metadata": {},
   "source": [
    "### housekeeping functions"
   ]
  },
  {
   "cell_type": "code",
   "execution_count": null,
   "id": "3ac7eee3-e760-442b-b720-618499831f46",
   "metadata": {},
   "outputs": [],
   "source": [
    "# function to count occurence of sgRNAs from raw Illumina fastq files\n",
    "def count_spacers_fwd(in_lib, in_fastq, column_name):\n",
    "\n",
    "    KEY_REGION_START = 5 # start index of key region\n",
    "    KEY_REGION_END = 40 # end index of key region\n",
    "    KEY = \"CGAAACACCG\" # identifies seq before guide to determine position\n",
    "\n",
    "    dict_perfects = {x:0 for x in in_lib}\n",
    "    try:\n",
    "        handle = gzip.open(in_fastq, \"rt\")\n",
    "    except:\n",
    "        print(\"could not find fastq file\")\n",
    "        return\n",
    "\n",
    "    readiter = SeqIO.parse(handle, \"fastq\")\n",
    "    for record in readiter: # contains the seq and Qscore etc.\n",
    "        read_sequence = str.upper(str(record.seq))\n",
    "        key_region = read_sequence[KEY_REGION_START:KEY_REGION_END]\n",
    "        key_index = key_region.find(KEY)\n",
    "        if key_index >= 0:\n",
    "            start_index = key_index + KEY_REGION_START + len(KEY)\n",
    "            guide = read_sequence[start_index:(start_index + 20)]\n",
    "            if guide in dict_perfects.keys(): # if sgRNA is found\n",
    "                dict_perfects[guide] += 1\n",
    "                \n",
    "    return_df = pd.DataFrame()\n",
    "    return_df['sgRNA sequence'] = dict_perfects.keys()\n",
    "    return_df[column_name] = dict_perfects.values()\n",
    "    return return_df"
   ]
  },
  {
   "cell_type": "code",
   "execution_count": null,
   "id": "be5ad8d7-34d4-4513-86f0-fed586856230",
   "metadata": {},
   "outputs": [],
   "source": [
    "# function to add columns with sgRNA counts from each condition/replicate\n",
    "# df_dir is directory of tsv dataframe containing information on the sgRNAs contained in the screen\n",
    "# fastq_dir_wildcard is directory containing all fastq files pertaining to samples/replicates\n",
    "def add_counts_table(df_dir,fastq_dir_wildcard,df_cols):\n",
    "    df = pd.read_csv(df_dir,sep='\\t')\n",
    "    df_ori_columns = df.columns.tolist()\n",
    "    for fastq in glob.glob(fastq_dir_wildcard):\n",
    "        counts_df = pd.DataFrame()\n",
    "        counts_df = count_spacers_fwd(df['sgRNA sequence'],fastq,fastq.split('/')[-1].split('_')[-1].split('.')[0])\n",
    "        df = pd.merge(df,counts_df,on='sgRNA sequence')\n",
    "    columns_sort = df_ori_columns + df_cols\n",
    "    return df[columns_sort]"
   ]
  },
  {
   "cell_type": "markdown",
   "id": "af7f9981-ecca-411f-a0c5-3e5ffcfa4e52",
   "metadata": {},
   "source": [
    "### functions to generate normalized log-fold change for each sgRNA passing filter"
   ]
  },
  {
   "cell_type": "code",
   "execution_count": null,
   "id": "3ec51b77-e295-4b86-90b9-5023f9706ce0",
   "metadata": {},
   "outputs": [],
   "source": [
    "ori_columns = ['sgRNA sequence','sgRNA context sequence','Gene Symbol','Ensembl Gene ID','Ensembl transcript ID','Gene strand','Genome assembly','Transcript reference allele','Transcript alternate allele','Genome reference allele','Genome alternate allele','Chromosome','sgrna genomic position','sgRNA Strand','PAM','Edit','# edits','#silent edits','Nucleotide edits','Amino acid edits','Mutation category','Clinical significance','BsmBI flag','4T flag','Genotype_name','Residue','Mutation_type'] # specific to how sgRNAs were designed\n",
    "counts_columns = ['d0','DMSO-R1','DMSO-R2','DMSO-R3','Unsorted-R1','Unsorted-R2','Unsorted-R3','Sorted-R1','Sorted-R2','Sorted-R3'] # specific to conditions in this paper\n",
    "\n",
    "# function filtering out sgRNAs that have counts of 0 at day 0\n",
    "def filter_by_d0(df_with_counts):\n",
    "    return (df_with_counts[df_with_counts['d0']>0], len(df_with_counts)-len(df_with_counts[df_with_counts['d0']>0])) \n",
    "\n",
    "# function normalizing count by calculating reads per millions, adding pseudocount of 1 in addition to normalizing to day 0 counts\n",
    "def normalize_counts(df_filtered):\n",
    "    df_normalized = df_filtered.copy()\n",
    "    for column in counts_columns:\n",
    "        df_normalized[column+'_normalized'] = df_normalized[column].apply(lambda x: np.log2((x * 10000000 / df_normalized[column].sum()) + 1))\n",
    "    for column in counts_columns[1:]: #starting from index 1 because d0 is used to normalize\n",
    "        df_normalized[column+'_d0_normalized']  = df_normalized[column+'_normalized']-df_normalized['d0_normalized']\n",
    "    return df_normalized\n",
    "\n",
    "# function averaging between replicates\n",
    "def merge_reps(df_normalized):\n",
    "    df_reps_merged = df_normalized[ori_columns].copy()\n",
    "    for i in range(1,9,3):\n",
    "        columns = [x + '_d0_normalized' for x in counts_columns[i:i+3]]\n",
    "        new_name = columns[0].split('_')[0].split('-')[0] + '_normalized_average'\n",
    "        df_reps_merged[new_name] = df_normalized[columns].mean(axis=1)\n",
    "    return(df_reps_merged)\n",
    "\n",
    "# function normalizing to unsorted samples\n",
    "def compare_to_unsorted(df_reps_merged):\n",
    "    working_df = df_reps_merged.copy()\n",
    "    working_df['lfc_over_unsorted'] = working_df['Sorted_normalized_average']-working_df['Unsorted_normalized_average']\n",
    "    return(working_df)\n"
   ]
  },
  {
   "cell_type": "markdown",
   "id": "b3b4ae3a-4443-469b-b5a2-e3f62fbf4649",
   "metadata": {},
   "source": [
    "### functions to calculate stats of each library"
   ]
  },
  {
   "cell_type": "code",
   "execution_count": null,
   "id": "72526fe6-d768-4e56-918f-8830f95fc1e8",
   "metadata": {},
   "outputs": [],
   "source": [
    "# function calculating mean and standard deviation of control sgRNAs in the library\n",
    "def get_plotting_params(df_compared):\n",
    "    plotting_df = df_compared[['sgRNA sequence','Gene Symbol','Genotype_name','Residue','Mutation_type','lfc_over_unsorted']].copy()\n",
    "    plotting_df_genic = plotting_df[~(plotting_df['Gene Symbol'].isin(['Positive_control','Negative_control'])) & ~(plotting_df['Mutation_type'].isna())]\n",
    "    \n",
    "    plotting_df_control = plotting_df[(plotting_df['Gene Symbol'].isin(['Negative_control']))]\n",
    "    control_mean = plotting_df_control['lfc_over_unsorted'].mean()\n",
    "    control_sd = plotting_df_control['lfc_over_unsorted'].std()\n",
    "    \n",
    "    plotting_df_genic['lfc_over_unsorted_adjusted_param1'] = plotting_df_genic['lfc_over_unsorted'] - control_mean\n",
    "    \n",
    "    return (plotting_df_genic,control_mean,control_sd)"
   ]
  },
  {
   "cell_type": "markdown",
   "id": "3fd12a20-ea88-4fd9-a87a-c70e523ea790",
   "metadata": {},
   "source": [
    "## example lines of code to run analysis functions"
   ]
  },
  {
   "cell_type": "code",
   "execution_count": null,
   "id": "bee95d29-5ba1-489a-843a-881078af831c",
   "metadata": {},
   "outputs": [],
   "source": [
    "# building counts table\n",
    "df_cols = ['d0','DMSO-R1','DMSO-R2','DMSO-R3','Unsorted-R1','Unsorted-R2','Unsorted-R3','Sorted-R1','Sorted-R2','Sorted-R3']\n",
    "\n",
    "HDAC_ABE = add_counts_table(\"./final_files/0_231222_final_HDAC1_ABE_df.tsv\",\"./fastq_HDAC1_ABE/HDAC1_ABE_*\",df_cols)\n",
    "HDAC_CBE = add_counts_table(\"./final_files/0_231222_final_HDAC1_CBE_df.tsv\",\"./fastq_HDAC1_CBE/HDAC1_CBE_*\",df_cols)\n",
    "KBTBD4_ABE = add_counts_table(\"./final_files/0_231222_final_KBTBD4_ABE_df.tsv\",\"./fastq_KBTBD4_ABE/KBTBD4_ABE_*\",df_cols)\n",
    "KBTBD4_CBE = add_counts_table(\"./final_files/0_231222_final_KBTBD4_CBE_df.tsv\",\"./fastq_KBTBD4_CBE/KBTBD4_CBE_*\",df_cols)"
   ]
  },
  {
   "cell_type": "code",
   "execution_count": null,
   "id": "9280f424-54b7-483f-9806-aba20ff16e94",
   "metadata": {},
   "outputs": [],
   "source": [
    "# filtering out sgRNAs that do not have counts on day 0\n",
    "HDAC_ABE_filtered, HDAC_ABE_n_excluded = filter_by_d0(HDAC_ABE)\n",
    "HDAC_CBE_filtered, HDAC_CBE_n_excluded = filter_by_d0(HDAC_CBE)\n",
    "KBTBD4_ABE_filtered, KBTBD4_ABE_n_excluded = filter_by_d0(KBTBD4_ABE)\n",
    "KBTBD4_CBE_filtered, KBTBD4_CBE_n_excluded = filter_by_d0(KBTBD4_CBE)"
   ]
  },
  {
   "cell_type": "code",
   "execution_count": null,
   "id": "38c6cd4c-8782-43c7-b278-b94ebf5627fd",
   "metadata": {},
   "outputs": [],
   "source": [
    "# normalizing counts (reads per million, pseudocount of 1, normalized over day 0)\n",
    "HDAC_ABE_filtered_normalized = normalize_counts(HDAC_ABE_filtered)\n",
    "HDAC_CBE_filtered_normalized = normalize_counts(HDAC_CBE_filtered)\n",
    "KBTBD4_ABE_filtered_normalized = normalize_counts(KBTBD4_ABE_filtered)\n",
    "KBTBD4_CBE_filtered_normalized = normalize_counts(KBTBD4_CBE_filtered)"
   ]
  },
  {
   "cell_type": "code",
   "execution_count": null,
   "id": "084c032f-cc33-4c3a-b6a9-3806cc5526f7",
   "metadata": {},
   "outputs": [],
   "source": [
    "# merge reps\n",
    "HDAC_ABE_averaged = merge_reps(HDAC_ABE_filtered_normalized)\n",
    "HDAC_CBE_averaged = merge_reps(HDAC_CBE_filtered_normalized)\n",
    "KBTBD4_ABE_averaged = merge_reps(KBTBD4_ABE_filtered_normalized)\n",
    "KBTBD4_CBE_averaged = merge_reps(KBTBD4_CBE_filtered_normalized)"
   ]
  },
  {
   "cell_type": "code",
   "execution_count": null,
   "id": "911d9ce1-5ca4-4ba0-aaec-96d0153c865b",
   "metadata": {},
   "outputs": [],
   "source": [
    "# normalize to unsorted\n",
    "HDAC_ABE_compared = compare_to_unsorted(HDAC_ABE_averaged)\n",
    "HDAC_CBE_compared = compare_to_unsorted(HDAC_CBE_averaged)\n",
    "KBTBD4_ABE_compared = compare_to_unsorted(KBTBD4_ABE_averaged)\n",
    "KBTBD4_CBE_compared = compare_to_unsorted(KBTBD4_CBE_averaged)"
   ]
  },
  {
   "cell_type": "code",
   "execution_count": null,
   "id": "14a72652-6d81-4005-ad03-cd26eb28e24d",
   "metadata": {},
   "outputs": [],
   "source": [
    "# calculate mean and standard deviation of control sgRNA\n",
    "HDAC_ABE_plotting, HDAC_ABE_mean, HDAC_ABE_sd = get_plotting_params(HDAC_ABE_compared)\n",
    "HDAC_CBE_plotting, HDAC_CBE_mean, HDAC_CBE_sd = get_plotting_params(HDAC_CBE_compared)\n",
    "KBTBD4_ABE_plotting, KBTBD4_ABE_mean, KBTBD4_ABE_sd = get_plotting_params(KBTBD4_ABE_compared)\n",
    "KBTBD4_CBE_plotting, KBTBD4_CBE_mean, KBTBD4_CBE_sd = get_plotting_params(KBTBD4_CBE_compared)"
   ]
  }
 ],
 "metadata": {
  "kernelspec": {
   "display_name": "Python [conda env:generic_env]",
   "language": "python",
   "name": "conda-env-generic_env-py"
  },
  "language_info": {
   "codemirror_mode": {
    "name": "ipython",
    "version": 3
   },
   "file_extension": ".py",
   "mimetype": "text/x-python",
   "name": "python",
   "nbconvert_exporter": "python",
   "pygments_lexer": "ipython3",
   "version": "3.12.2"
  }
 },
 "nbformat": 4,
 "nbformat_minor": 5
}
